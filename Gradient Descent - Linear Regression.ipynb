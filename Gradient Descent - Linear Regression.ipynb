{
 "cells": [
  {
   "cell_type": "code",
   "execution_count": 119,
   "metadata": {},
   "outputs": [],
   "source": [
    "import numpy as np\n",
    "import pandas as pd\n",
    "from matplotlib import pyplot as plt"
   ]
  },
  {
   "cell_type": "markdown",
   "metadata": {},
   "source": [
    "Cost Function to compute the value of J"
   ]
  },
  {
   "cell_type": "code",
   "execution_count": 140,
   "metadata": {},
   "outputs": [],
   "source": [
    "def compute_cost(X, y, Theta):\n",
    "    \"\"\"\n",
    "    Compute the cost of Theta in accordance to y.\n",
    "    \"\"\"\n",
    "    m = len(y)    \n",
    "    J = 0\n",
    "    h = X.dot(Theta)\n",
    "    J = (1/(2*m)*(((h-y)**2).sum(axis=0)))\n",
    "    return J.sum(axis=0)"
   ]
  },
  {
   "cell_type": "markdown",
   "metadata": {},
   "source": [
    "Convert Data"
   ]
  },
  {
   "cell_type": "code",
   "execution_count": 121,
   "metadata": {},
   "outputs": [],
   "source": [
    "data = open('./ex1data1.txt')\n",
    "data_str=''\n",
    "line = data.readline()\n",
    "while line!='':\n",
    "    data_str = data_str + line.replace(',',' ')\n",
    "    line = data.readline()\n",
    "#data_str"
   ]
  },
  {
   "cell_type": "code",
   "execution_count": 122,
   "metadata": {},
   "outputs": [],
   "source": [
    "file = open('./data_1.txt','w')\n",
    "file.write(data_str)\n",
    "file.close()"
   ]
  },
  {
   "cell_type": "markdown",
   "metadata": {},
   "source": [
    "Load data for regression"
   ]
  },
  {
   "cell_type": "code",
   "execution_count": 146,
   "metadata": {},
   "outputs": [
    {
     "data": {
      "text/plain": [
       "32.072733877455676"
      ]
     },
     "execution_count": 146,
     "metadata": {},
     "output_type": "execute_result"
    }
   ],
   "source": [
    "X = np.loadtxt('./data_1.txt')\n",
    "X_1 = np.ones((len(X[: , 1 ]), 1))\n",
    "y = X[ : , 1:2]\n",
    "X = np.append(X_1, X[ : , 0:1], axis=1)\n",
    "Theta = np.zeros((len(X[1, : ]), 1))\n",
    "#Theta = np.zeros((2, 1))\n",
    "#J = compute_cost(X, y, Theta)\n",
    "#Theta = np.array([[-1], [2]])\n",
    "J = compute_cost(X, y, Theta)\n",
    "J"
   ]
  },
  {
   "cell_type": "code",
   "execution_count": 124,
   "metadata": {},
   "outputs": [],
   "source": [
    "def gradient_descent(X, y, Theta, alpha, iterations):\n",
    "    \"\"\"\n",
    "    Calculate Theta in accordance to the gradients.\n",
    "    \"\"\"\n",
    "    m = len(y)\n",
    "    J_history = np.zeros((iterations, 1))\n",
    "    \n",
    "    for i in range(iterations):\n",
    "        h = X.dot(Theta)\n",
    "        p = X.T.dot(h-y)\n",
    "        Theta = Theta - (alpha/m)*p\n",
    "        J_history[i] = compute_cost(X, y, Theta)\n",
    "    return Theta, J_history"
   ]
  },
  {
   "cell_type": "code",
   "execution_count": 143,
   "metadata": {},
   "outputs": [
    {
     "data": {
      "text/plain": [
       "array([[-3.63029144],\n",
       "       [ 1.16636235]])"
      ]
     },
     "execution_count": 143,
     "metadata": {},
     "output_type": "execute_result"
    }
   ],
   "source": [
    "Theta = np.zeros((len(X[1, : ]), 1))\n",
    "Theta, J_history = gradient_descent(X, y, Theta, 0.01, 1500)\n",
    "Theta\n",
    "#J_history"
   ]
  },
  {
   "cell_type": "code",
   "execution_count": 76,
   "metadata": {},
   "outputs": [
    {
     "data": {
      "text/plain": [
       "[<matplotlib.lines.Line2D at 0x2a5d772aa00>]"
      ]
     },
     "execution_count": 76,
     "metadata": {},
     "output_type": "execute_result"
    },
    {
     "data": {
      "image/png": "[encoded data removed]",
      "text/plain": [
       "<Figure size 432x288 with 1 Axes>"
      ]
     },
     "metadata": {
      "needs_background": "light"
     },
     "output_type": "display_data"
    }
   ],
   "source": [
    "x = np.arange(1, 1501)\n",
    "y = J_history\n",
    "plt.title(\"Gradient Descent\") \n",
    "plt.xlabel(\"Iterations\") \n",
    "plt.ylabel(\"Cost of J\") \n",
    "plt.plot(x, y)"
   ]
  },
  {
   "cell_type": "code",
   "execution_count": 274,
   "metadata": {},
   "outputs": [
    {
     "data": {
      "text/plain": [
       "array([4519.7678677])"
      ]
     },
     "execution_count": 274,
     "metadata": {},
     "output_type": "execute_result"
    }
   ],
   "source": [
    "predict = np.array([1, 3.5]).dot(Theta)\n",
    "predict*10000"
   ]
  },
  {
   "cell_type": "code",
   "execution_count": 275,
   "metadata": {},
   "outputs": [
    {
     "data": {
      "text/plain": [
       "array([45342.45012945])"
      ]
     },
     "execution_count": 275,
     "metadata": {},
     "output_type": "execute_result"
    }
   ],
   "source": [
    "predict = np.array([1, 7]).dot(Theta)\n",
    "predict*10000"
   ]
  },
  {
   "cell_type": "code",
   "execution_count": 155,
   "metadata": {},
   "outputs": [
    {
     "data": {
      "text/plain": [
       "(414, 7)"
      ]
     },
     "execution_count": 155,
     "metadata": {},
     "output_type": "execute_result"
    }
   ],
   "source": [
    "CSV = np.genfromtxt('./Real estate.csv', delimiter=',')\n",
    "#CSV\n",
    "X = CSV[ 1: , 1:]\n",
    "y = X[ : , len(X[1 , : ])-1]\n",
    "X = X[ : , :len(X[1 , : ])-1]\n",
    "X_1 = np.ones((len(X[: , 1 ]), 1))\n",
    "X = np.append(X_1, X, axis=1)\n",
    "\n",
    "Theta = np.zeros((len(X[1, : ]), 1))\n",
    "X.shape\n"
   ]
  },
  {
   "cell_type": "code",
   "execution_count": null,
   "metadata": {},
   "outputs": [
    {
     "name": "stderr",
     "output_type": "stream",
     "text": [
      "<ipython-input-140-cd9edb5d55e7>:8: RuntimeWarning: overflow encountered in square\n",
      "  J = (1/(2*m)*(((h-y)**2).sum(axis=0)))\n"
     ]
    }
   ],
   "source": [
    "Theta = gradient_descent(X, y, Theta, 0.01, 1500)\n",
    "Theta.shape\n",
    "#compute_cost(X, y, Theta)#.shape"
   ]
  },
  {
   "cell_type": "code",
   "execution_count": 150,
   "metadata": {},
   "outputs": [
    {
     "data": {
      "text/plain": [
       "(414, 1)"
      ]
     },
     "execution_count": 150,
     "metadata": {},
     "output_type": "execute_result"
    }
   ],
   "source": [
    "X.dot(Theta).shape"
   ]
  },
  {
   "cell_type": "code",
   "execution_count": null,
   "metadata": {},
   "outputs": [],
   "source": []
  }
 ],
 "metadata": {
  "kernelspec": {
   "display_name": "Python 3",
   "language": "python",
   "name": "python3"
  },
  "language_info": {
   "codemirror_mode": {
    "name": "ipython",
    "version": 3
   },
   "file_extension": ".py",
   "mimetype": "text/x-python",
   "name": "python",
   "nbconvert_exporter": "python",
   "pygments_lexer": "ipython3",
   "version": "3.8.5"
  }
 },
 "nbformat": 4,
 "nbformat_minor": 4
}
